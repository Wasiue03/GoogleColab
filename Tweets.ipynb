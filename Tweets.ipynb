{
  "nbformat": 4,
  "nbformat_minor": 0,
  "metadata": {
    "colab": {
      "provenance": [],
      "authorship_tag": "ABX9TyPAkd7xvsYFBIwMDd8MCKrg",
      "include_colab_link": true
    },
    "kernelspec": {
      "name": "python3",
      "display_name": "Python 3"
    },
    "language_info": {
      "name": "python"
    }
  },
  "cells": [
    {
      "cell_type": "markdown",
      "metadata": {
        "id": "view-in-github",
        "colab_type": "text"
      },
      "source": [
        "<a href=\"https://colab.research.google.com/github/Wasi12-tech/GoogleColab/blob/main/Tweets.ipynb\" target=\"_parent\"><img src=\"https://colab.research.google.com/assets/colab-badge.svg\" alt=\"Open In Colab\"/></a>"
      ]
    },
    {
      "cell_type": "code",
      "execution_count": null,
      "metadata": {
        "id": "QN9SfZv3qrZt"
      },
      "outputs": [],
      "source": [
        "import pandas as pd\n",
        "import numpy as np"
      ]
    },
    {
      "cell_type": "code",
      "source": [
        "df = pd.read_csv('/content/Twitter_sentiment.csv')"
      ],
      "metadata": {
        "id": "-yPhmEZr6eSy"
      },
      "execution_count": null,
      "outputs": []
    },
    {
      "cell_type": "code",
      "source": [
        "df.head(5)"
      ],
      "metadata": {
        "colab": {
          "base_uri": "https://localhost:8080/",
          "height": 206
        },
        "id": "0NLWwiKr6zPE",
        "outputId": "39ea3acb-5983-4304-d354-1638db7592b0"
      },
      "execution_count": null,
      "outputs": [
        {
          "output_type": "execute_result",
          "data": {
            "text/plain": [
              "   id  label                                              tweet\n",
              "0   1      0   @user when a father is dysfunctional and is s...\n",
              "1   2      0  @user @user thanks for #lyft credit i can't us...\n",
              "2   3      0                                bihday your majesty\n",
              "3   4      0  #model   i love u take with u all the time in ...\n",
              "4   5      0             factsguide: society now    #motivation"
            ],
            "text/html": [
              "\n",
              "  <div id=\"df-0444d9b8-7afa-445a-b1a5-b75cce33e986\">\n",
              "    <div class=\"colab-df-container\">\n",
              "      <div>\n",
              "<style scoped>\n",
              "    .dataframe tbody tr th:only-of-type {\n",
              "        vertical-align: middle;\n",
              "    }\n",
              "\n",
              "    .dataframe tbody tr th {\n",
              "        vertical-align: top;\n",
              "    }\n",
              "\n",
              "    .dataframe thead th {\n",
              "        text-align: right;\n",
              "    }\n",
              "</style>\n",
              "<table border=\"1\" class=\"dataframe\">\n",
              "  <thead>\n",
              "    <tr style=\"text-align: right;\">\n",
              "      <th></th>\n",
              "      <th>id</th>\n",
              "      <th>label</th>\n",
              "      <th>tweet</th>\n",
              "    </tr>\n",
              "  </thead>\n",
              "  <tbody>\n",
              "    <tr>\n",
              "      <th>0</th>\n",
              "      <td>1</td>\n",
              "      <td>0</td>\n",
              "      <td>@user when a father is dysfunctional and is s...</td>\n",
              "    </tr>\n",
              "    <tr>\n",
              "      <th>1</th>\n",
              "      <td>2</td>\n",
              "      <td>0</td>\n",
              "      <td>@user @user thanks for #lyft credit i can't us...</td>\n",
              "    </tr>\n",
              "    <tr>\n",
              "      <th>2</th>\n",
              "      <td>3</td>\n",
              "      <td>0</td>\n",
              "      <td>bihday your majesty</td>\n",
              "    </tr>\n",
              "    <tr>\n",
              "      <th>3</th>\n",
              "      <td>4</td>\n",
              "      <td>0</td>\n",
              "      <td>#model   i love u take with u all the time in ...</td>\n",
              "    </tr>\n",
              "    <tr>\n",
              "      <th>4</th>\n",
              "      <td>5</td>\n",
              "      <td>0</td>\n",
              "      <td>factsguide: society now    #motivation</td>\n",
              "    </tr>\n",
              "  </tbody>\n",
              "</table>\n",
              "</div>\n",
              "      <button class=\"colab-df-convert\" onclick=\"convertToInteractive('df-0444d9b8-7afa-445a-b1a5-b75cce33e986')\"\n",
              "              title=\"Convert this dataframe to an interactive table.\"\n",
              "              style=\"display:none;\">\n",
              "        \n",
              "  <svg xmlns=\"http://www.w3.org/2000/svg\" height=\"24px\"viewBox=\"0 0 24 24\"\n",
              "       width=\"24px\">\n",
              "    <path d=\"M0 0h24v24H0V0z\" fill=\"none\"/>\n",
              "    <path d=\"M18.56 5.44l.94 2.06.94-2.06 2.06-.94-2.06-.94-.94-2.06-.94 2.06-2.06.94zm-11 1L8.5 8.5l.94-2.06 2.06-.94-2.06-.94L8.5 2.5l-.94 2.06-2.06.94zm10 10l.94 2.06.94-2.06 2.06-.94-2.06-.94-.94-2.06-.94 2.06-2.06.94z\"/><path d=\"M17.41 7.96l-1.37-1.37c-.4-.4-.92-.59-1.43-.59-.52 0-1.04.2-1.43.59L10.3 9.45l-7.72 7.72c-.78.78-.78 2.05 0 2.83L4 21.41c.39.39.9.59 1.41.59.51 0 1.02-.2 1.41-.59l7.78-7.78 2.81-2.81c.8-.78.8-2.07 0-2.86zM5.41 20L4 18.59l7.72-7.72 1.47 1.35L5.41 20z\"/>\n",
              "  </svg>\n",
              "      </button>\n",
              "      \n",
              "  <style>\n",
              "    .colab-df-container {\n",
              "      display:flex;\n",
              "      flex-wrap:wrap;\n",
              "      gap: 12px;\n",
              "    }\n",
              "\n",
              "    .colab-df-convert {\n",
              "      background-color: #E8F0FE;\n",
              "      border: none;\n",
              "      border-radius: 50%;\n",
              "      cursor: pointer;\n",
              "      display: none;\n",
              "      fill: #1967D2;\n",
              "      height: 32px;\n",
              "      padding: 0 0 0 0;\n",
              "      width: 32px;\n",
              "    }\n",
              "\n",
              "    .colab-df-convert:hover {\n",
              "      background-color: #E2EBFA;\n",
              "      box-shadow: 0px 1px 2px rgba(60, 64, 67, 0.3), 0px 1px 3px 1px rgba(60, 64, 67, 0.15);\n",
              "      fill: #174EA6;\n",
              "    }\n",
              "\n",
              "    [theme=dark] .colab-df-convert {\n",
              "      background-color: #3B4455;\n",
              "      fill: #D2E3FC;\n",
              "    }\n",
              "\n",
              "    [theme=dark] .colab-df-convert:hover {\n",
              "      background-color: #434B5C;\n",
              "      box-shadow: 0px 1px 3px 1px rgba(0, 0, 0, 0.15);\n",
              "      filter: drop-shadow(0px 1px 2px rgba(0, 0, 0, 0.3));\n",
              "      fill: #FFFFFF;\n",
              "    }\n",
              "  </style>\n",
              "\n",
              "      <script>\n",
              "        const buttonEl =\n",
              "          document.querySelector('#df-0444d9b8-7afa-445a-b1a5-b75cce33e986 button.colab-df-convert');\n",
              "        buttonEl.style.display =\n",
              "          google.colab.kernel.accessAllowed ? 'block' : 'none';\n",
              "\n",
              "        async function convertToInteractive(key) {\n",
              "          const element = document.querySelector('#df-0444d9b8-7afa-445a-b1a5-b75cce33e986');\n",
              "          const dataTable =\n",
              "            await google.colab.kernel.invokeFunction('convertToInteractive',\n",
              "                                                     [key], {});\n",
              "          if (!dataTable) return;\n",
              "\n",
              "          const docLinkHtml = 'Like what you see? Visit the ' +\n",
              "            '<a target=\"_blank\" href=https://colab.research.google.com/notebooks/data_table.ipynb>data table notebook</a>'\n",
              "            + ' to learn more about interactive tables.';\n",
              "          element.innerHTML = '';\n",
              "          dataTable['output_type'] = 'display_data';\n",
              "          await google.colab.output.renderOutput(dataTable, element);\n",
              "          const docLink = document.createElement('div');\n",
              "          docLink.innerHTML = docLinkHtml;\n",
              "          element.appendChild(docLink);\n",
              "        }\n",
              "      </script>\n",
              "    </div>\n",
              "  </div>\n",
              "  "
            ]
          },
          "metadata": {},
          "execution_count": 163
        }
      ]
    },
    {
      "cell_type": "code",
      "source": [
        "df.info()"
      ],
      "metadata": {
        "colab": {
          "base_uri": "https://localhost:8080/"
        },
        "id": "Nvb3xT6v64pS",
        "outputId": "fe5b0e7f-4adb-412f-9518-840ab12373c9"
      },
      "execution_count": null,
      "outputs": [
        {
          "output_type": "stream",
          "name": "stdout",
          "text": [
            "<class 'pandas.core.frame.DataFrame'>\n",
            "RangeIndex: 31962 entries, 0 to 31961\n",
            "Data columns (total 3 columns):\n",
            " #   Column  Non-Null Count  Dtype \n",
            "---  ------  --------------  ----- \n",
            " 0   id      31962 non-null  int64 \n",
            " 1   label   31962 non-null  int64 \n",
            " 2   tweet   31962 non-null  object\n",
            "dtypes: int64(2), object(1)\n",
            "memory usage: 749.2+ KB\n"
          ]
        }
      ]
    },
    {
      "cell_type": "code",
      "source": [
        "df.isna()"
      ],
      "metadata": {
        "colab": {
          "base_uri": "https://localhost:8080/",
          "height": 423
        },
        "id": "R3DHwjhB7THn",
        "outputId": "3248cf1e-0cf8-46c0-f93b-748a03aa1d80"
      },
      "execution_count": null,
      "outputs": [
        {
          "output_type": "execute_result",
          "data": {
            "text/plain": [
              "          id  label  tweet\n",
              "0      False  False  False\n",
              "1      False  False  False\n",
              "2      False  False  False\n",
              "3      False  False  False\n",
              "4      False  False  False\n",
              "...      ...    ...    ...\n",
              "31957  False  False  False\n",
              "31958  False  False  False\n",
              "31959  False  False  False\n",
              "31960  False  False  False\n",
              "31961  False  False  False\n",
              "\n",
              "[31962 rows x 3 columns]"
            ],
            "text/html": [
              "\n",
              "  <div id=\"df-d38e9b88-148b-4458-a52d-c294c20a2087\">\n",
              "    <div class=\"colab-df-container\">\n",
              "      <div>\n",
              "<style scoped>\n",
              "    .dataframe tbody tr th:only-of-type {\n",
              "        vertical-align: middle;\n",
              "    }\n",
              "\n",
              "    .dataframe tbody tr th {\n",
              "        vertical-align: top;\n",
              "    }\n",
              "\n",
              "    .dataframe thead th {\n",
              "        text-align: right;\n",
              "    }\n",
              "</style>\n",
              "<table border=\"1\" class=\"dataframe\">\n",
              "  <thead>\n",
              "    <tr style=\"text-align: right;\">\n",
              "      <th></th>\n",
              "      <th>id</th>\n",
              "      <th>label</th>\n",
              "      <th>tweet</th>\n",
              "    </tr>\n",
              "  </thead>\n",
              "  <tbody>\n",
              "    <tr>\n",
              "      <th>0</th>\n",
              "      <td>False</td>\n",
              "      <td>False</td>\n",
              "      <td>False</td>\n",
              "    </tr>\n",
              "    <tr>\n",
              "      <th>1</th>\n",
              "      <td>False</td>\n",
              "      <td>False</td>\n",
              "      <td>False</td>\n",
              "    </tr>\n",
              "    <tr>\n",
              "      <th>2</th>\n",
              "      <td>False</td>\n",
              "      <td>False</td>\n",
              "      <td>False</td>\n",
              "    </tr>\n",
              "    <tr>\n",
              "      <th>3</th>\n",
              "      <td>False</td>\n",
              "      <td>False</td>\n",
              "      <td>False</td>\n",
              "    </tr>\n",
              "    <tr>\n",
              "      <th>4</th>\n",
              "      <td>False</td>\n",
              "      <td>False</td>\n",
              "      <td>False</td>\n",
              "    </tr>\n",
              "    <tr>\n",
              "      <th>...</th>\n",
              "      <td>...</td>\n",
              "      <td>...</td>\n",
              "      <td>...</td>\n",
              "    </tr>\n",
              "    <tr>\n",
              "      <th>31957</th>\n",
              "      <td>False</td>\n",
              "      <td>False</td>\n",
              "      <td>False</td>\n",
              "    </tr>\n",
              "    <tr>\n",
              "      <th>31958</th>\n",
              "      <td>False</td>\n",
              "      <td>False</td>\n",
              "      <td>False</td>\n",
              "    </tr>\n",
              "    <tr>\n",
              "      <th>31959</th>\n",
              "      <td>False</td>\n",
              "      <td>False</td>\n",
              "      <td>False</td>\n",
              "    </tr>\n",
              "    <tr>\n",
              "      <th>31960</th>\n",
              "      <td>False</td>\n",
              "      <td>False</td>\n",
              "      <td>False</td>\n",
              "    </tr>\n",
              "    <tr>\n",
              "      <th>31961</th>\n",
              "      <td>False</td>\n",
              "      <td>False</td>\n",
              "      <td>False</td>\n",
              "    </tr>\n",
              "  </tbody>\n",
              "</table>\n",
              "<p>31962 rows × 3 columns</p>\n",
              "</div>\n",
              "      <button class=\"colab-df-convert\" onclick=\"convertToInteractive('df-d38e9b88-148b-4458-a52d-c294c20a2087')\"\n",
              "              title=\"Convert this dataframe to an interactive table.\"\n",
              "              style=\"display:none;\">\n",
              "        \n",
              "  <svg xmlns=\"http://www.w3.org/2000/svg\" height=\"24px\"viewBox=\"0 0 24 24\"\n",
              "       width=\"24px\">\n",
              "    <path d=\"M0 0h24v24H0V0z\" fill=\"none\"/>\n",
              "    <path d=\"M18.56 5.44l.94 2.06.94-2.06 2.06-.94-2.06-.94-.94-2.06-.94 2.06-2.06.94zm-11 1L8.5 8.5l.94-2.06 2.06-.94-2.06-.94L8.5 2.5l-.94 2.06-2.06.94zm10 10l.94 2.06.94-2.06 2.06-.94-2.06-.94-.94-2.06-.94 2.06-2.06.94z\"/><path d=\"M17.41 7.96l-1.37-1.37c-.4-.4-.92-.59-1.43-.59-.52 0-1.04.2-1.43.59L10.3 9.45l-7.72 7.72c-.78.78-.78 2.05 0 2.83L4 21.41c.39.39.9.59 1.41.59.51 0 1.02-.2 1.41-.59l7.78-7.78 2.81-2.81c.8-.78.8-2.07 0-2.86zM5.41 20L4 18.59l7.72-7.72 1.47 1.35L5.41 20z\"/>\n",
              "  </svg>\n",
              "      </button>\n",
              "      \n",
              "  <style>\n",
              "    .colab-df-container {\n",
              "      display:flex;\n",
              "      flex-wrap:wrap;\n",
              "      gap: 12px;\n",
              "    }\n",
              "\n",
              "    .colab-df-convert {\n",
              "      background-color: #E8F0FE;\n",
              "      border: none;\n",
              "      border-radius: 50%;\n",
              "      cursor: pointer;\n",
              "      display: none;\n",
              "      fill: #1967D2;\n",
              "      height: 32px;\n",
              "      padding: 0 0 0 0;\n",
              "      width: 32px;\n",
              "    }\n",
              "\n",
              "    .colab-df-convert:hover {\n",
              "      background-color: #E2EBFA;\n",
              "      box-shadow: 0px 1px 2px rgba(60, 64, 67, 0.3), 0px 1px 3px 1px rgba(60, 64, 67, 0.15);\n",
              "      fill: #174EA6;\n",
              "    }\n",
              "\n",
              "    [theme=dark] .colab-df-convert {\n",
              "      background-color: #3B4455;\n",
              "      fill: #D2E3FC;\n",
              "    }\n",
              "\n",
              "    [theme=dark] .colab-df-convert:hover {\n",
              "      background-color: #434B5C;\n",
              "      box-shadow: 0px 1px 3px 1px rgba(0, 0, 0, 0.15);\n",
              "      filter: drop-shadow(0px 1px 2px rgba(0, 0, 0, 0.3));\n",
              "      fill: #FFFFFF;\n",
              "    }\n",
              "  </style>\n",
              "\n",
              "      <script>\n",
              "        const buttonEl =\n",
              "          document.querySelector('#df-d38e9b88-148b-4458-a52d-c294c20a2087 button.colab-df-convert');\n",
              "        buttonEl.style.display =\n",
              "          google.colab.kernel.accessAllowed ? 'block' : 'none';\n",
              "\n",
              "        async function convertToInteractive(key) {\n",
              "          const element = document.querySelector('#df-d38e9b88-148b-4458-a52d-c294c20a2087');\n",
              "          const dataTable =\n",
              "            await google.colab.kernel.invokeFunction('convertToInteractive',\n",
              "                                                     [key], {});\n",
              "          if (!dataTable) return;\n",
              "\n",
              "          const docLinkHtml = 'Like what you see? Visit the ' +\n",
              "            '<a target=\"_blank\" href=https://colab.research.google.com/notebooks/data_table.ipynb>data table notebook</a>'\n",
              "            + ' to learn more about interactive tables.';\n",
              "          element.innerHTML = '';\n",
              "          dataTable['output_type'] = 'display_data';\n",
              "          await google.colab.output.renderOutput(dataTable, element);\n",
              "          const docLink = document.createElement('div');\n",
              "          docLink.innerHTML = docLinkHtml;\n",
              "          element.appendChild(docLink);\n",
              "        }\n",
              "      </script>\n",
              "    </div>\n",
              "  </div>\n",
              "  "
            ]
          },
          "metadata": {},
          "execution_count": 165
        }
      ]
    },
    {
      "cell_type": "code",
      "source": [
        "df.isna().sum()"
      ],
      "metadata": {
        "colab": {
          "base_uri": "https://localhost:8080/"
        },
        "id": "lWHTDL5X7jG0",
        "outputId": "ac74be35-ca0b-4a1b-a853-4ee93723b3cf"
      },
      "execution_count": null,
      "outputs": [
        {
          "output_type": "execute_result",
          "data": {
            "text/plain": [
              "id       0\n",
              "label    0\n",
              "tweet    0\n",
              "dtype: int64"
            ]
          },
          "metadata": {},
          "execution_count": 166
        }
      ]
    },
    {
      "cell_type": "code",
      "source": [
        "import nltk\n",
        "nltk.download('stopwords')\n",
        "\n",
        "import re\n",
        "import string\n",
        "from nltk.corpus import stopwords\n",
        "from nltk.stem import PorterStemmer\n",
        "from nltk.tokenize import TweetTokenizer"
      ],
      "metadata": {
        "colab": {
          "base_uri": "https://localhost:8080/"
        },
        "id": "XS13_5w_7rtH",
        "outputId": "12fe7157-19df-4ada-e52a-754fa0167cc5"
      },
      "execution_count": null,
      "outputs": [
        {
          "output_type": "stream",
          "name": "stderr",
          "text": [
            "[nltk_data] Downloading package stopwords to /root/nltk_data...\n",
            "[nltk_data]   Package stopwords is already up-to-date!\n"
          ]
        }
      ]
    },
    {
      "cell_type": "code",
      "source": [
        "tweets = df['tweet']\n",
        "tweets1 = tweets[:50]\n",
        "print(tweets1)"
      ],
      "metadata": {
        "colab": {
          "base_uri": "https://localhost:8080/"
        },
        "id": "jXjIjjsC-jL6",
        "outputId": "0547a450-ace0-4287-9f28-0a09e710080e"
      },
      "execution_count": null,
      "outputs": [
        {
          "output_type": "stream",
          "name": "stdout",
          "text": [
            "0      @user when a father is dysfunctional and is s...\n",
            "1     @user @user thanks for #lyft credit i can't us...\n",
            "2                                   bihday your majesty\n",
            "3     #model   i love u take with u all the time in ...\n",
            "4                factsguide: society now    #motivation\n",
            "5     [2/2] huge fan fare and big talking before the...\n",
            "6      @user camping tomorrow @user @user @user @use...\n",
            "7     the next school year is the year for exams.ð...\n",
            "8     we won!!! love the land!!! #allin #cavs #champ...\n",
            "9      @user @user welcome here !  i'm   it's so #gr...\n",
            "10     â #ireland consumer price index (mom) climb...\n",
            "11    we are so selfish. #orlando #standwithorlando ...\n",
            "12    i get to see my daddy today!!   #80days #getti...\n",
            "13    @user #cnn calls #michigan middle school 'buil...\n",
            "14    no comment!  in #australia   #opkillingbay #se...\n",
            "15    ouch...junior is angryð#got7 #junior #yugyo...\n",
            "16    i am thankful for having a paner. #thankful #p...\n",
            "17                               retweet if you agree! \n",
            "18    its #friday! ð smiles all around via ig use...\n",
            "19    as we all know, essential oils are not made of...\n",
            "20    #euro2016 people blaming ha for conceded goal ...\n",
            "21    sad little dude..   #badday #coneofshame #cats...\n",
            "22    product of the day: happy man #wine tool  who'...\n",
            "23      @user @user lumpy says i am a . prove it lumpy.\n",
            "24     @user #tgif   #ff to my #gamedev #indiedev #i...\n",
            "25    beautiful sign by vendor 80 for $45.00!! #upsi...\n",
            "26     @user all #smiles when #media is   !! ðð...\n",
            "27    we had a great panel on the mediatization of t...\n",
            "28          happy father's day @user ðððð  \n",
            "29    50 people went to nightclub to have a good nig...\n",
            "30    i have never had a chance to vote for a presid...\n",
            "31      #alohafriday #time does #not #exist #positiv...\n",
            "32     @user rip to the fellow nohern ireland fan wh...\n",
            "33    it was a hard monday due to cloudy weather. di...\n",
            "34    it's unbelievable that in the 21st century we'...\n",
            "35    #taylorswift1989   bull up: you will dominate ...\n",
            "36       morning~~ #travelingram #dalat   #ripinkylife \n",
            "37    @user once more only one word tells it all: #p...\n",
            "38    oh, #cedarpoint. waited 2 hours in the valravn...\n",
            "39    i am thankful for sunshine. #thankful #positiv...\n",
            "40    when you finally finish a book you've been wor...\n",
            "41    yup, being a knicks fan is hard, so its easier...\n",
            "42    there is life after social networking. embrace...\n",
            "43    my mom shares the same bihday as @user   bihda...\n",
            "44    lovely echeveria blooms#flowers #grow #gardeni...\n",
            "45      i am amazing. #i_am #positive #affirmation     \n",
            "46    #model   i love u take with u all the time in ...\n",
            "47       #whenever im   and #something goes #wrong  |  \n",
            "48                        feeling blue #illustration   \n",
            "49    the best pa about life is knowing who you are!...\n",
            "Name: tweet, dtype: object\n"
          ]
        }
      ]
    },
    {
      "cell_type": "code",
      "source": [
        "for i in range(len(tweets1)):\n",
        "  tweets1[i] = re.sub(r\"(@[A-Za-z0–9_]+)|[^\\w\\s]|#|http\\S+|ð\", \"\", tweets1[i])\n",
        "tweets1.head(50)\n"
      ],
      "metadata": {
        "colab": {
          "base_uri": "https://localhost:8080/"
        },
        "id": "4v6SCQ6T9fI9",
        "outputId": "a5b9ee0e-4f77-4cdc-f095-406157fb2c20"
      },
      "execution_count": null,
      "outputs": [
        {
          "output_type": "execute_result",
          "data": {
            "text/plain": [
              "0       when a father is dysfunctional and is so sel...\n",
              "1       thanks for lyft credit i cant use cause they...\n",
              "2                                   bihday your majesty\n",
              "3     model   i love u take with u all the time in u...\n",
              "4                  factsguide society now    motivation\n",
              "5     22 huge fan fare and big talking before they l...\n",
              "6                        camping tomorrow        dannyâ\n",
              "7     the next school year is the year for exams can...\n",
              "8     we won love the land allin cavs champions clev...\n",
              "9                      welcome here   im   its so gr8  \n",
              "10     â ireland consumer price index mom climbed fr...\n",
              "11    we are so selfish orlando standwithorlando pul...\n",
              "12      i get to see my daddy today   80days gettingfed\n",
              "13     cnn calls michigan middle school build the wa...\n",
              "14    no comment  in australia   opkillingbay seashe...\n",
              "15        ouchjunior is angrygot7 junior yugyoem   omg \n",
              "16    i am thankful for having a paner thankful posi...\n",
              "17                                retweet if you agree \n",
              "18    its friday  smiles all around via ig user  coo...\n",
              "19    as we all know essential oils are not made of ...\n",
              "20    euro2016 people blaming ha for conceded goal w...\n",
              "21    sad little dude   badday coneofshame cats piss...\n",
              "22    product of the day happy man wine tool  whos  ...\n",
              "23                    lumpy says i am a  prove it lumpy\n",
              "24      tgif   ff to my gamedev indiedev indiegamede...\n",
              "25    beautiful sign by vendor 80 for 4500 upsideoff...\n",
              "26      all smiles when media is     pressconference...\n",
              "27    we had a great panel on the mediatization of t...\n",
              "28                                happy fathers day    \n",
              "29    50 people went to nightclub to have a good nig...\n",
              "30    i have never had a chance to vote for a presid...\n",
              "31      alohafriday time does not exist positivevibe...\n",
              "32      rip to the fellow nohern ireland fan who sad...\n",
              "33    it was a hard monday due to cloudy weather dis...\n",
              "34    its unbelievable that in the 21st century wed ...\n",
              "35    taylorswift1989   bull up you will dominate yo...\n",
              "36            morning travelingram dalat   ripinkylife \n",
              "37     once more only one word tells it all photosho...\n",
              "38    oh cedarpoint waited 2 hours in the valravn li...\n",
              "39    i am thankful for sunshine thankful positive     \n",
              "40    when you finally finish a book youve been work...\n",
              "41    yup being a knicks fan is hard so its easier t...\n",
              "42    there is life after social networking embrace ...\n",
              "43    my mom shares the same bihday as    bihday sna...\n",
              "44    lovely echeveria bloomsflowers grow gardening ...\n",
              "45          i am amazing i_am positive affirmation     \n",
              "46    model   i love u take with u all the time in u...\n",
              "47           whenever im   and something goes wrong    \n",
              "48                         feeling blue illustration   \n",
              "49    the best pa about life is knowing who you are ...\n",
              "Name: tweet, dtype: object"
            ]
          },
          "metadata": {},
          "execution_count": 169
        }
      ]
    },
    {
      "cell_type": "code",
      "source": [
        "import nltk\n",
        "nltk.download('punkt')\n",
        "from nltk.tokenize import word_tokenize\n",
        "for i in range(len(tweets1)):\n",
        "  tweets1[i] = word_tokenize(tweets1[i])"
      ],
      "metadata": {
        "colab": {
          "base_uri": "https://localhost:8080/"
        },
        "id": "5bhD5UQ-_rAp",
        "outputId": "c1d54bc0-2200-46fe-b648-02df17832a6e"
      },
      "execution_count": null,
      "outputs": [
        {
          "output_type": "stream",
          "name": "stderr",
          "text": [
            "[nltk_data] Downloading package punkt to /root/nltk_data...\n",
            "[nltk_data]   Package punkt is already up-to-date!\n"
          ]
        }
      ]
    },
    {
      "cell_type": "code",
      "source": [
        "# S1 is actual real tweet form the dataset and S2 is a random tweet to find cosine similarity\n",
        "s1 = \"when a father is dysfunctional and is so selfish he drags his kids into his dysfunction run\"\n",
        "s2 = \"I am good and have a nice day\"\n",
        "s3 = \"thanks for lyft credit i cant use cause they dont offer wheelchair vans in pdx disapointed get thanked\""
      ],
      "metadata": {
        "id": "FhJ2shv6IvG2"
      },
      "execution_count": null,
      "outputs": []
    },
    {
      "cell_type": "code",
      "source": [],
      "metadata": {
        "id": "5Sag3YA1Orjz"
      },
      "execution_count": null,
      "outputs": []
    },
    {
      "cell_type": "code",
      "source": [
        "\n",
        "def cosine_distance_countvectorizer_method(s1, s2):\n",
        "\n",
        "    # sentences to list\n",
        "    allsentences = [s1, s2]\n",
        "\n",
        "    from sklearn.feature_extraction.text import CountVectorizer\n",
        "    from scipy.spatial import distance\n",
        "\n",
        "\n",
        "    vectorizer = CountVectorizer()\n",
        "    all_sentences_to_vector = vectorizer.fit_transform(allsentences)\n",
        "    text_to_vector_v1 = all_sentences_to_vector.toarray()[0].tolist()\n",
        "    text_to_vector_v2 = all_sentences_to_vector.toarray()[1].tolist()\n",
        "\n",
        "    # distance of similarity\n",
        "    cosine = distance.cosine(text_to_vector_v1, text_to_vector_v2)\n",
        "    print('Similarity of two dataset are equal to ',round((1-cosine)*100,2),'%')\n",
        "    return cosine"
      ],
      "metadata": {
        "id": "NsmfU0CZDN6R"
      },
      "execution_count": null,
      "outputs": []
    },
    {
      "cell_type": "code",
      "source": [
        "print(cosine_distance_countvectorizer_method(s1, s2))"
      ],
      "metadata": {
        "colab": {
          "base_uri": "https://localhost:8080/"
        },
        "id": "OZu3dx9rIMwx",
        "outputId": "d482612b-23d1-46b3-c54f-78604176de5f"
      },
      "execution_count": null,
      "outputs": [
        {
          "output_type": "stream",
          "name": "stdout",
          "text": [
            "Similarity of two dataset are equal to  9.13 %\n",
            "0.9087129070824723\n"
          ]
        }
      ]
    },
    {
      "cell_type": "code",
      "source": [],
      "metadata": {
        "id": "Rdue15ukIXWR"
      },
      "execution_count": null,
      "outputs": []
    }
  ]
}